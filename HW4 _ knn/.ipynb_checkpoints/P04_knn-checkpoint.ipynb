{
 "cells": [
  {
   "cell_type": "markdown",
   "metadata": {},
   "source": [
    "> ### EEE3314-02: Introduction to Artificial Intelligence\n",
    "\n",
    "# Assignment \\# IV: KNN Classifier"
   ]
  },
  {
   "cell_type": "markdown",
   "metadata": {},
   "source": [
    "<div style=\"text-align: right\"> **Due date: Nov. 9, 2019.** </div> \n",
    "<div style=\"text-align: right\"> **Please upload your file @ yscec by 8PM in the form of [ID_Name.zip].** </div> \n",
    "<div style=\"text-align: right\"> Wonkyung Lee (이원경): <a href=\"mailto:leewk92@yonsei.ac.kr\">leewk92@yonsei.ac.kr</a> </div>\n",
    "<div style=\"text-align: right\"> Geon Lee (이건): <a href=\"mailto:2015142195@yonsei.ac.kr\"> 2015142195@yonsei.ac.kr</a> </div>"
   ]
  },
  {
   "cell_type": "markdown",
   "metadata": {},
   "source": [
    "### *Assignement Instructions:*\n",
    "- Write a program implementing a particular algorithm to solve a given problem.   \n",
    "- <h4><span style=\"color:red\">**Report and discuss your results. Analyze the algorithm, theoretically and empirically. **</span> </h4>\n",
    "\n",
    "### *Collaboration policy:*\n",
    "- You may discuss the questions.   \n",
    "- Each student writes their own answers.   \n",
    "- **Write on your homework anyone with whom you collaborate.**   \n",
    "- Each student must write their own code for the programming part (**if not you will get a F grade**)."
   ]
  },
  {
   "cell_type": "markdown",
   "metadata": {},
   "source": [
    "<h2><span style=\"color:blue\">[2015142113] [JunYoung Kim]</span> </h2>"
   ]
  },
  {
   "cell_type": "code",
   "execution_count": 1,
   "metadata": {},
   "outputs": [
    {
     "name": "stdout",
     "output_type": "stream",
     "text": [
      "This code is written at 2019-11-09 16:28:14.616061\n"
     ]
    }
   ],
   "source": [
    "%load_ext autoreload\n",
    "%autoreload 2\n",
    "\n",
    "import datetime\n",
    "print(\"This code is written at \" + str(datetime.datetime.now()))"
   ]
  },
  {
   "cell_type": "markdown",
   "metadata": {},
   "source": [
    "## Problem description"
   ]
  },
  {
   "cell_type": "markdown",
   "metadata": {},
   "source": [
    "In this homework, we will implement a k-NN classifier with the MNIST dataset. The MNIST dataset contains handwritten digits with corresponding labels from $0$ to $9$, and it has been commonly used for testing various machine learning algorithms. The $\\texttt{sklearn.datasets}$ package provides the MNIST dataset. You can load the dataset as follows."
   ]
  },
  {
   "cell_type": "code",
   "execution_count": 2,
   "metadata": {},
   "outputs": [],
   "source": [
    "from sklearn import datasets\n",
    "import numpy as np"
   ]
  },
  {
   "cell_type": "code",
   "execution_count": 3,
   "metadata": {},
   "outputs": [],
   "source": [
    "mnist = datasets.load_digits()"
   ]
  },
  {
   "cell_type": "markdown",
   "metadata": {},
   "source": [
    "The $\\texttt{train_test_split}$ function from $\\texttt{sklearn.model_selection}$ package makes it easy to split datasets into training and test sets. We can easily makes a validation set from the test one as well. See the example shown below."
   ]
  },
  {
   "cell_type": "code",
   "execution_count": 4,
   "metadata": {},
   "outputs": [],
   "source": [
    "from sklearn.model_selection import train_test_split"
   ]
  },
  {
   "cell_type": "code",
   "execution_count": 5,
   "metadata": {},
   "outputs": [],
   "source": [
    "(X_train, X_test, y_train, y_test) = train_test_split(np.array(mnist.data), mnist.target, test_size=0.33, random_state=42)\n",
    "(X_train, X_val, y_train, y_val) = train_test_split(X_train, y_train, test_size=0.33, random_state=42)"
   ]
  },
  {
   "cell_type": "markdown",
   "metadata": {},
   "source": [
    "where X_train, X_test and X_val are training, test, and validation sets, respectively. y_train, y_test and y_val are labels for X_train, X_test, and X_val, respectively."
   ]
  },
  {
   "cell_type": "markdown",
   "metadata": {},
   "source": [
    "The datset contains 64-dimensional vectors, and we can visualize each one with the $\\texttt{imshow}$ function after reshaping it as follows."
   ]
  },
  {
   "cell_type": "code",
   "execution_count": 6,
   "metadata": {
    "scrolled": true
   },
   "outputs": [
    {
     "name": "stdout",
     "output_type": "stream",
     "text": [
      "X_train.shape:  (806, 64)\n",
      "X_train[0].shape:  (64,)\n",
      "y_train.shape:  (806,)\n"
     ]
    }
   ],
   "source": [
    "print(\"X_train.shape: \", X_train.shape)\n",
    "print(\"X_train[0].shape: \",X_train[0].shape)\n",
    "print(\"y_train.shape: \", y_train.shape)"
   ]
  },
  {
   "cell_type": "code",
   "execution_count": 7,
   "metadata": {},
   "outputs": [],
   "source": [
    "import matplotlib.pyplot as plt"
   ]
  },
  {
   "cell_type": "code",
   "execution_count": 8,
   "metadata": {},
   "outputs": [
    {
     "name": "stdout",
     "output_type": "stream",
     "text": [
      "A label for 8th sample in the training set is 5\n"
     ]
    },
    {
     "data": {
      "image/png": "[encoded data removed]",
      "text/plain": [
       "<Figure size 432x288 with 1 Axes>"
      ]
     },
     "metadata": {
      "needs_background": "light"
     },
     "output_type": "display_data"
    }
   ],
   "source": [
    "sample_number = 8\n",
    "n_col = 8\n",
    "n_row = 8\n",
    "im=plt.imshow(X_train[sample_number].reshape(n_col,n_col))\n",
    "print('A label for %dth sample in the training set is %d' % (sample_number, y_train[sample_number]))"
   ]
  },
  {
   "cell_type": "markdown",
   "metadata": {},
   "source": [
    "## I. Solve Problem  (80 points)\n",
    "### P1.1\n",
    "(*60 points*) Implement a K-NN classifier.    "
   ]
  },
  {
   "cell_type": "code",
   "execution_count": 9,
   "metadata": {
    "scrolled": true
   },
   "outputs": [],
   "source": [
    "from P04 import predict"
   ]
  },
  {
   "cell_type": "markdown",
   "metadata": {},
   "source": [
    "- Predict label of first test sample when k=20."
   ]
  },
  {
   "cell_type": "code",
   "execution_count": 10,
   "metadata": {
    "scrolled": true
   },
   "outputs": [],
   "source": [
    "k = 20\n",
    "prediction_of_first_sample = predict(X_train, y_train, X_test[0], k)"
   ]
  },
  {
   "cell_type": "code",
   "execution_count": 11,
   "metadata": {
    "scrolled": false
   },
   "outputs": [
    {
     "name": "stdout",
     "output_type": "stream",
     "text": [
      "6\n"
     ]
    }
   ],
   "source": [
    "print(prediction_of_first_sample)"
   ]
  },
  {
   "cell_type": "code",
   "execution_count": 12,
   "metadata": {
    "scrolled": true
   },
   "outputs": [
    {
     "name": "stdout",
     "output_type": "stream",
     "text": [
      "6\n"
     ]
    }
   ],
   "source": [
    "label_of_first_sample = y_test[0]\n",
    "print(label_of_first_sample)"
   ]
  },
  {
   "cell_type": "code",
   "execution_count": 13,
   "metadata": {
    "scrolled": false
   },
   "outputs": [
    {
     "name": "stdout",
     "output_type": "stream",
     "text": [
      "A label of first sample in the test set is 6\n"
     ]
    },
    {
     "data": {
      "image/png": "[encoded data removed]",
      "text/plain": [
       "<Figure size 432x288 with 1 Axes>"
      ]
     },
     "metadata": {
      "needs_background": "light"
     },
     "output_type": "display_data"
    }
   ],
   "source": [
    "n_col = 8\n",
    "n_row = 8\n",
    "im=plt.imshow(X_test[0].reshape(n_col,n_col))\n",
    "print('A label of first sample in the test set is %d' % (y_test[0]))"
   ]
  },
  {
   "cell_type": "code",
   "execution_count": 14,
   "metadata": {
    "scrolled": true
   },
   "outputs": [
    {
     "name": "stdout",
     "output_type": "stream",
     "text": [
      "Prediction and label are same : True\n"
     ]
    }
   ],
   "source": [
    "print(\"Prediction and label are same :\", (prediction_of_first_sample==label_of_first_sample))"
   ]
  },
  {
   "cell_type": "markdown",
   "metadata": {},
   "source": [
    "- You should get appropriate accuracy on test data when k=10 "
   ]
  },
  {
   "cell_type": "code",
   "execution_count": 15,
   "metadata": {},
   "outputs": [],
   "source": [
    "from P04 import accuracy"
   ]
  },
  {
   "cell_type": "code",
   "execution_count": 16,
   "metadata": {},
   "outputs": [],
   "source": [
    "k =10 \n",
    "accuracy_when_k_equals_10 = accuracy(X_train, y_train, X_test, y_test, k)"
   ]
  },
  {
   "cell_type": "code",
   "execution_count": 17,
   "metadata": {
    "scrolled": true
   },
   "outputs": [
    {
     "name": "stdout",
     "output_type": "stream",
     "text": [
      "98.14814814814815\n"
     ]
    }
   ],
   "source": [
    "print(accuracy_when_k_equals_10)"
   ]
  },
  {
   "cell_type": "markdown",
   "metadata": {},
   "source": [
    "### P1.2\n",
    "(*20 points*) Plot accuracy on the validation set according to the value of $k$, where $k = 1,2,...,20$. Choose the optimal $k$ value from the plot and compute accuracy on the test set. "
   ]
  },
  {
   "cell_type": "code",
   "execution_count": 18,
   "metadata": {},
   "outputs": [],
   "source": [
    "from P04 import stack_accuracy_over_k"
   ]
  },
  {
   "cell_type": "code",
   "execution_count": 19,
   "metadata": {
    "scrolled": true
   },
   "outputs": [],
   "source": [
    "accuracies = stack_accuracy_over_k(X_train, y_train, X_val, y_val)"
   ]
  },
  {
   "cell_type": "code",
   "execution_count": 20,
   "metadata": {},
   "outputs": [
    {
     "data": {
      "text/plain": [
       "20"
      ]
     },
     "execution_count": 20,
     "metadata": {},
     "output_type": "execute_result"
    }
   ],
   "source": [
    "len(accuracies)"
   ]
  },
  {
   "cell_type": "code",
   "execution_count": 21,
   "metadata": {
    "scrolled": false
   },
   "outputs": [
    {
     "data": {
      "text/plain": [
       "Text(0, 0.5, 'Validation accuracy')"
      ]
     },
     "execution_count": 21,
     "metadata": {},
     "output_type": "execute_result"
    },
    {
     "data": {
      "image/png": "[encoded data removed]",
      "text/plain": [
       "<Figure size 648x288 with 1 Axes>"
      ]
     },
     "metadata": {
      "needs_background": "light"
     },
     "output_type": "display_data"
    }
   ],
   "source": [
    "plt.figure(figsize=(9,4))\n",
    "plt.plot(np.arange(20)+1, accuracies, marker= '*')\n",
    "plt.xticks(np.arange(1, 21, step=1))\n",
    "plt.title('Validation accuracy over k', fontsize=20)\n",
    "plt.xlabel('k', fontsize=15)\n",
    "plt.ylabel('Validation accuracy', fontsize=15)"
   ]
  },
  {
   "cell_type": "code",
   "execution_count": 22,
   "metadata": {},
   "outputs": [],
   "source": [
    "optimal_k = np.argmax(np.asarray(accuracies))+1"
   ]
  },
  {
   "cell_type": "code",
   "execution_count": 23,
   "metadata": {},
   "outputs": [
    {
     "data": {
      "text/plain": [
       "3"
      ]
     },
     "execution_count": 23,
     "metadata": {},
     "output_type": "execute_result"
    }
   ],
   "source": [
    "optimal_k"
   ]
  },
  {
   "cell_type": "code",
   "execution_count": 24,
   "metadata": {},
   "outputs": [
    {
     "name": "stdout",
     "output_type": "stream",
     "text": [
      "98.65319865319864\n"
     ]
    }
   ],
   "source": [
    "acc = accuracy(X_train, y_train, X_test, y_test, optimal_k)\n",
    "print(acc)"
   ]
  },
  {
   "cell_type": "markdown",
   "metadata": {},
   "source": [
    "## Result Analysis and Discussion (20 points)"
   ]
  },
  {
   "cell_type": "markdown",
   "metadata": {},
   "source": [
    "For result analysis and discussion, you can use all functions defined above. Also you can make your own functions or scripts.\n",
    "\n",
    "Your answer must include the analysis about:\n",
    "\n",
    "- Algorithm of k-NN\n",
    "- Difference between k-NN and regression"
   ]
  },
  {
   "cell_type": "markdown",
   "metadata": {},
   "source": [
    "### Algorithm of k-NN\n",
    "\n",
    "NN 은 Nearest Neighbors의 줄임말로, k-NN이라하면 Test set의 Query Sample과 가장 비슷한 k개의 Training sample들을 찾아, Regression의 경우는 그들의 Ground Truth값들의 평균값으로 Query의 Prediction을 정하고, Classification의 경우는 가장 빈도 수가 많은 True label값으로 Query의 label을 정하는 방법이다. \n",
    "\n",
    "k-NN방법을 사용하기 위해 작성한 Algorithm을 설명하자면, 우선 prediction을 구하고자 하는 query로부터 k개의 첫 training sample들의 Distance를 구하고, 이들을 Distance가 작은 sample이 list의 가장 앞에 오도록 sorting하였다. 여기서 Distance는 Query와 Sample간의 Euclidean Distance를 의미한다. 이렇게 initialization을 한 후, Sorting한 k개의 Sample들을 제외하고 나머지 Training sample들에 대해 모두 Query와의 Distance를 구하고, initialize한 k개의 Distance들과 비교하면서 최종적으로 k개의 가장 작은 Distance를 갖는 Sample list를 구했다. 여기서는 만약 Sorting된 Sample list와 비교시 j번째에서 Distance가 같거나 j번째 보다 크지만 그 다음의 것보다 작은 Training Distance가 구해졌을 경우에는, j+1 자리에 그 값을 입력해 넣었다. 그 후 이 Project같은 경우는 Classification이기 때문에 가장 빈도 수가 많은 list속 sample들의 true label로 Query를 labeling하였다. 여기서 같은 최대 빈도수를 갖는 여러 개의 label이 나오는 경우가 있을 수 있는데, 이 때는 그 중 가장 가까운 Distance를 갖는 Sample이 있는 label로 labeling하였다."
   ]
  },
  {
   "cell_type": "markdown",
   "metadata": {},
   "source": [
    "### Difference between k-NN and regression\n",
    "\n",
    "Regression같은 경우는 training sample들을 가지고 각각의 weight를 Fit하는 과정이 중요하였다. training sample들과 그들의 실제 결과값을 가지고 Loss function을 Minimize하는 방향으로 coefficient들을 최적화하여 Sample들을 설명할 수 있는 하나의 Model을 구하고, 이 Model이 다른 Sample들(test set)에 대해서도 잘 동작하는지 확인하는게 Regression의 방식이었다. \n",
    "\n",
    "하지만, k-NN같은 경우는 따로 Model을 만들지 않는다. training sample들을 가지고 하는 일이라고는 단지 정리해 Loading하는 정도 뿐이다. 이 방법은 test set의 Sample들인 Query들을 그냥 가장 가까운 k개의 training sample의 ground truth의 평균 값으로 prediction을 정해버린다. 그래서 따로 Model이 존재하지 않는다. 다만 하나의 Query의 Prediction을 구할 때마다 모든 training sample들과 Distance를 비교해야 하므로 시간이 오래 걸릴 수 있다."
   ]
  }
 ],
 "metadata": {
  "kernelspec": {
   "display_name": "Python 3",
   "language": "python",
   "name": "python3"
  },
  "language_info": {
   "codemirror_mode": {
    "name": "ipython",
    "version": 3
   },
   "file_extension": ".py",
   "mimetype": "text/x-python",
   "name": "python",
   "nbconvert_exporter": "python",
   "pygments_lexer": "ipython3",
   "version": "3.7.3"
  }
 },
 "nbformat": 4,
 "nbformat_minor": 2
}
